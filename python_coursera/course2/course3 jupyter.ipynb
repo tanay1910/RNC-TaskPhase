{
 "cells": [
  {
   "cell_type": "code",
   "execution_count": 1,
   "metadata": {},
   "outputs": [
    {
     "data": {
      "text/plain": [
       "{1: 'Tanay', 2: 'stop'}"
      ]
     },
     "execution_count": 1,
     "metadata": {},
     "output_type": "execute_result"
    }
   ],
   "source": [
    "#dictionaries\n",
    "bag = {\n",
    "    1: \"Tanay\",\n",
    "    2: \"stop\"\n",
    "}\n",
    "\n",
    "bag"
   ]
  },
  {
   "cell_type": "code",
   "execution_count": null,
   "metadata": {},
   "outputs": [],
   "source": [
    "#counting using dicitionaries\n",
    "counts=dict()\n",
    "names=[\"cseb\",\"cseb\",\"cxeb\",\"csev\"]\n",
    "for i in names:\n",
    "    if i not in counts:\n",
    "        counts[i]=1\n",
    "    elif i in counts:\n",
    "        counts[i]=counts[i]+1\n",
    "\n",
    "print(counts)"
   ]
  },
  {
   "cell_type": "code",
   "execution_count": null,
   "metadata": {},
   "outputs": [],
   "source": [
    "print(5)"
   ]
  },
  {
   "cell_type": "code",
   "execution_count": 1,
   "metadata": {},
   "outputs": [
    {
     "name": "stdout",
     "output_type": "stream",
     "text": [
      "2\n"
     ]
    }
   ],
   "source": [
    "#get method for dictionaries\n",
    "newdict = {\n",
    "    \"tanay\": 1,\n",
    "    \"ehre\":2\n",
    "}\n",
    "\n",
    "x = newdict.get('ehre',0)\n",
    "#x=value in dictionary if key is present, else gets the value 0 i.e. default set by us\n",
    "\n",
    "print(x)"
   ]
  },
  {
   "cell_type": "code",
   "execution_count": 2,
   "metadata": {},
   "outputs": [
    {
     "name": "stdout",
     "output_type": "stream",
     "text": [
      "{'Tanay': 1, 'cweb': 3, 'csap': 1}\n"
     ]
    }
   ],
   "source": [
    "#simplified counting with get\n",
    "dict1=dict()\n",
    "names=['Tanay','cweb','cweb','csap','cweb']\n",
    "for i in names:\n",
    "    dict1[i]=dict1.get(i,0)+1\n",
    "\n",
    "print(dict1)"
   ]
  },
  {
   "cell_type": "code",
   "execution_count": 3,
   "metadata": {},
   "outputs": [
    {
     "name": "stdout",
     "output_type": "stream",
     "text": [
      "{'Hi': 2, 'my': 1, 'name': 2, 'is': 2, 'Tanay': 1}\n"
     ]
    }
   ],
   "source": [
    "#words in a  line counter\n",
    "word_count=dict()\n",
    "\n",
    "line = \"Hi my name is name is Tanay Hi\"\n",
    "\n",
    "x=line.split()\n",
    "\n",
    "for word in x:\n",
    "    word_count[word]=word_count.get(word,0)+1\n",
    "\n",
    "print(word_count)\n"
   ]
  },
  {
   "cell_type": "code",
   "execution_count": 6,
   "metadata": {},
   "outputs": [
    {
     "name": "stdout",
     "output_type": "stream",
     "text": [
      "Tanay 1\n",
      "cweb 3\n",
      "csap 1\n"
     ]
    }
   ],
   "source": [
    "#for loop in a dictionary\n",
    "for i in dict1:\n",
    "    print(i,dict1[i])"
   ]
  },
  {
   "cell_type": "code",
   "execution_count": 10,
   "metadata": {},
   "outputs": [
    {
     "data": {
      "text/plain": [
       "dict_keys(['Tanay', 'cweb', 'csap'])"
      ]
     },
     "execution_count": 10,
     "metadata": {},
     "output_type": "execute_result"
    }
   ],
   "source": [
    "#functions\n",
    "dict1.values()\n",
    "dict1.keys()"
   ]
  },
  {
   "cell_type": "code",
   "execution_count": 12,
   "metadata": {},
   "outputs": [
    {
     "name": "stdout",
     "output_type": "stream",
     "text": [
      "Tanay 1\n",
      "cweb 3\n",
      "csap 1\n"
     ]
    }
   ],
   "source": [
    "#double tranversing using for\n",
    "\n",
    "for i,j in dict1.items():\n",
    "    print(i,j)"
   ]
  },
  {
   "cell_type": "code",
   "execution_count": 13,
   "metadata": {},
   "outputs": [
    {
     "ename": "SyntaxError",
     "evalue": "incomplete input (2320209961.py, line 4)",
     "output_type": "error",
     "traceback": [
      "\u001b[1;36m  Cell \u001b[1;32mIn[13], line 4\u001b[1;36m\u001b[0m\n\u001b[1;33m    for line in handle:\u001b[0m\n\u001b[1;37m                       ^\u001b[0m\n\u001b[1;31mSyntaxError\u001b[0m\u001b[1;31m:\u001b[0m incomplete input\n"
     ]
    }
   ],
   "source": [
    "name = input(\"Enter file name: \")\n",
    "handle = open(name)\n",
    "\n",
    "count=dict()\n",
    "\n",
    "for line in handle:\n",
    "    words = line.split()\n",
    "    count[word]=count.get(words,0)+1\n",
    "\n",
    "print()"
   ]
  },
  {
   "cell_type": "code",
   "execution_count": null,
   "metadata": {},
   "outputs": [],
   "source": [
    "#Assignment 9.4 Code\n",
    "name = input(\"Enter file:\")\n",
    "if len(name) < 1:\n",
    "    name = \"mbox-short.txt\"\n",
    "handle = open(name)\n",
    "\n",
    "count=dict()\n",
    "\n",
    "for sentence in handle:\n",
    "    if sentence.startswith('From'):\n",
    "        #print(sentence)\n",
    "        words=sentence.split()\n",
    "        count[words[1]]=count.get(words[1],0)+1\n",
    "        \n",
    "bigcount=None\n",
    "bigwords=None\n",
    "\n",
    "for word,count in count.items():\n",
    "    if bigcount is None or count> bigcount:\n",
    "        bigword = word\n",
    "        bigcount = count\n",
    "        \n",
    "print(bigword,int(bigcount/2))\n",
    "            \n",
    "            "
   ]
  },
  {
   "cell_type": "code",
   "execution_count": 6,
   "metadata": {},
   "outputs": [
    {
     "name": "stdout",
     "output_type": "stream",
     "text": [
      "<generator object <genexpr> at 0x00000247CC016C00>\n",
      "1 b\n",
      "10 a\n",
      "22 c\n"
     ]
    }
   ],
   "source": [
    "#printing in sorted manner of values\n",
    "\n",
    "\n",
    "c={'a':10, 'b':1, 'c':22}\n",
    "\n",
    "print( [k,v] for k,v in c.items() )\n",
    "\n",
    "temp=list()\n",
    "for k,v in c.items():\n",
    "    temp.append((v,k))\n",
    "\n",
    "temp = sorted(temp)\n",
    "for v,k in temp:\n",
    "    print (v,k)"
   ]
  },
  {
   "cell_type": "code",
   "execution_count": 8,
   "metadata": {},
   "outputs": [
    {
     "name": "stdout",
     "output_type": "stream",
     "text": [
      "[('a', 10), ('b', 1), ('c', 22)]\n"
     ]
    }
   ],
   "source": [
    "\n",
    "c={'a':10, 'b':1, 'c':22}\n",
    "\n",
    "print( [(k,v) for k,v in c.items()] ) #list of what, for loop condition -- shortcut for temp list making"
   ]
  },
  {
   "cell_type": "code",
   "execution_count": 9,
   "metadata": {},
   "outputs": [
    {
     "name": "stdout",
     "output_type": "stream",
     "text": [
      "banana\n"
     ]
    }
   ],
   "source": [
    "txt = \",,,,,rrttgg.....banana....rrr\"\n",
    "\n",
    "x = txt.strip(\",.grt\")\n",
    "\n",
    "print(x)"
   ]
  },
  {
   "cell_type": "code",
   "execution_count": null,
   "metadata": {},
   "outputs": [],
   "source": [
    "'''\n",
    "1.Take the limits of an interval from the user and  print the armstrong numbers\n",
    "2.What can be the different ways to merge the dictionaries? Write a program for each case.\n",
    "3.Write a program to find all the permutations of a given string.\n",
    "4.Compute distance between 2 given points in (x,y) coordinates\n",
    "5. Separate potential words with spaces \n",
    "Eg. Input-helloThere \n",
    "    Output-hello There\n",
    "    \n",
    "'''"
   ]
  },
  {
   "cell_type": "code",
   "execution_count": 21,
   "metadata": {},
   "outputs": [],
   "source": [
    "\n",
    "\n"
   ]
  },
  {
   "cell_type": "code",
   "execution_count": 40,
   "metadata": {},
   "outputs": [
    {
     "name": "stdout",
     "output_type": "stream",
     "text": [
      "add set of coordinates.\n",
      "add set of coordinates.\n",
      "[(1, 3), (5, 6)]\n",
      "4.358898943540674\n"
     ]
    }
   ],
   "source": [
    "#Q4 - distance bw two xys\n",
    "\n",
    "l1=list()\n",
    "i=1\n",
    "while (i<3):\n",
    "    print(\"add set of coordinates.\")\n",
    "    x = int(input(\"Enter x: \"))\n",
    "    y = int(input(\"Enter y: \"))\n",
    "\n",
    "    l1.append( (x,y) )\n",
    "    i+=1\n",
    "    \n",
    "\n",
    "print(l1)\n",
    "\n",
    "distance= (abs(l1[1][0]-l1[0][0])**2+abs(l1[1][1]-l1[0][1]**2))**0.5\n",
    "print(distance)"
   ]
  },
  {
   "cell_type": "code",
   "execution_count": 16,
   "metadata": {},
   "outputs": [
    {
     "name": "stdout",
     "output_type": "stream",
     "text": [
      "371\n"
     ]
    }
   ],
   "source": [
    "#armstrong number\n",
    "num=371\n",
    "sum=0\n",
    "for i in str(num):\n",
    "    sum+=int(i)**3\n",
    "\n",
    "print(sum)"
   ]
  },
  {
   "cell_type": "code",
   "execution_count": 32,
   "metadata": {},
   "outputs": [
    {
     "name": "stdout",
     "output_type": "stream",
     "text": [
      "1 arm\n",
      "153 arm\n",
      "370 arm\n",
      "371 arm\n"
     ]
    }
   ],
   "source": [
    "a=int(input(\"Enter starting limit: \"))\n",
    "b=int(input(\"Enter ending limit: \"))\n",
    " \n",
    "list1=list()\n",
    "\n",
    "for k in range(a,b):\n",
    "    list1.append(k)\n",
    "\n",
    "sum1=0\n",
    "for item1 in list1:\n",
    "    for i1 in str(item1):\n",
    "        sum1+=int(i1)**3\n",
    "    \n",
    "    if sum1== item1:\n",
    "        print(item1,'arm')\n",
    "    sum1=0"
   ]
  },
  {
   "cell_type": "code",
   "execution_count": 37,
   "metadata": {},
   "outputs": [
    {
     "name": "stdout",
     "output_type": "stream",
     "text": [
      "{1: 'a', 2: 'b', 3: 'c', 4: 'd'}\n"
     ]
    }
   ],
   "source": [
    "#ways to merge dictionaries\n",
    "dict_a={1:'a',2:'b'}\n",
    "dict_b={3:'c',4:'d'}\n",
    "\n",
    "#method1\n",
    "for key,value in dict_b.items():\n",
    "    dict_a[key]=value\n",
    "\n",
    "print(dict_a)"
   ]
  },
  {
   "cell_type": "code",
   "execution_count": null,
   "metadata": {},
   "outputs": [],
   "source": []
  },
  {
   "cell_type": "code",
   "execution_count": null,
   "metadata": {},
   "outputs": [],
   "source": []
  }
 ],
 "metadata": {
  "kernelspec": {
   "display_name": "Python 3",
   "language": "python",
   "name": "python3"
  },
  "language_info": {
   "codemirror_mode": {
    "name": "ipython",
    "version": 3
   },
   "file_extension": ".py",
   "mimetype": "text/x-python",
   "name": "python",
   "nbconvert_exporter": "python",
   "pygments_lexer": "ipython3",
   "version": "3.11.1"
  },
  "orig_nbformat": 4
 },
 "nbformat": 4,
 "nbformat_minor": 2
}
